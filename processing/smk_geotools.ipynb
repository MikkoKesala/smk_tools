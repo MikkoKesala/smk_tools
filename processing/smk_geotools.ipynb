{
 "cells": [
  {
   "cell_type": "code",
   "execution_count": 1,
   "id": "6fd490a2",
   "metadata": {},
   "outputs": [],
   "source": [
    "from osgeo import gdal,gdal_array\n",
    "from math import sqrt\n",
    "import sys\n",
    "import pandas as pd\n",
    "import numpy as np\n",
    "from qgis.PyQt.QtCore import QVariant\n",
    "from qgis import processing\n",
    "from qgis.core import QgsVectorLayer,QgsField,QgsFeature,QgsVectorFileWriter,QgsRasterLayer,QgsApplication,edit\n",
    "from getInput import getWebRasterLayer,getBboxWmsFormat\n",
    "\n",
    "#for developing\n",
    "QgsApplication.setPrefixPath(r'C:\\OSGeo4W\\apps\\qgis', True)\n",
    "qgs = QgsApplication([], False)\n",
    "qgs.initQgis()\n",
    "sys.path.append(r'C:\\OSGeo4W\\apps\\qgis\\python\\plugins')\n",
    "import processing\n",
    "from processing.core.Processing import Processing\n",
    "Processing.initialize()\n",
    "#import processing\n",
    "from qgis.analysis import QgsNativeAlgorithms\n",
    "#from processing.core.Processing import Processing\n",
    "\n",
    "import geopandas as gpd\n",
    "import rasterio\n",
    "from rasterio.plot import show"
   ]
  },
  {
   "cell_type": "code",
   "execution_count": 2,
   "id": "c37018b1",
   "metadata": {},
   "outputs": [],
   "source": [
    "#example weblayers\n",
    "chm = 'https://rajapinnat.metsaan.fi/geoserver/Avoinmetsatieto/CHM_newest/ows?'"
   ]
  },
  {
   "cell_type": "code",
   "execution_count": 3,
   "id": "2751e64a",
   "metadata": {},
   "outputs": [
    {
     "name": "stderr",
     "output_type": "stream",
     "text": [
      "<>:2: DeprecationWarning: invalid escape sequence \\R\n",
      "<>:2: DeprecationWarning: invalid escape sequence \\R\n",
      "C:\\Users\\mkesala\\AppData\\Local\\Temp\\ipykernel_20144\\320352058.py:2: DeprecationWarning: invalid escape sequence \\R\n",
      "  data_example = \"data_example\\ReTreeT.gpkg\"\n"
     ]
    },
    {
     "data": {
      "text/plain": [
       "<AxesSubplot:>"
      ]
     },
     "execution_count": 3,
     "metadata": {},
     "output_type": "execute_result"
    },
    {
     "data": {
      "image/png": "[encoded data removed]",
      "text/plain": [
       "<Figure size 640x480 with 1 Axes>"
      ]
     },
     "metadata": {},
     "output_type": "display_data"
    }
   ],
   "source": [
    "#example cutting area\n",
    "data_example = \"data_example\\ReTreeT.gpkg\"\n",
    "layer = \"cuttingarea\"\n",
    "data_qgis = QgsVectorLayer(data_example+\"|layername=\"+layer,\"cutarea\",\"ogr\")\n",
    "data_df = gpd.read_file(data_example,layer = layer)\n",
    "\n",
    "data_df\n",
    "\n",
    "data_df.plot()"
   ]
  },
  {
   "cell_type": "code",
   "execution_count": 4,
   "id": "211885ea",
   "metadata": {},
   "outputs": [],
   "source": [
    "def feature2Layer(feat,buffer):\n",
    "    \"\"\"\n",
    "    This creates vectorlayer from feature. You can buffer feature at specific distance\n",
    "    \"\"\"\n",
    "    vl = QgsVectorLayer(\"Polygon\", \"temporary_points\", \"memory\")\n",
    "    pr = vl.dataProvider()\n",
    "\n",
    "    # add fields\n",
    "    vl.startEditing()\n",
    "    pr.addAttributes(feat.fields())\n",
    "    vl.updateFields() # tell the vector layer to fetch changes from the provider\n",
    "\n",
    "    fet = QgsFeature()\n",
    "    fet.setGeometry(feat.geometry().buffer(buffer,5))\n",
    "    #fet.setGeometry(feat.geometry())\n",
    "    fet.setAttributes(feat.attributes())\n",
    "    pr.addFeatures([fet])\n",
    "\n",
    "    vl.updateExtents()\n",
    "    vl.commitChanges()\n",
    "\n",
    "    return vl\n"
   ]
  },
  {
   "cell_type": "code",
   "execution_count": 5,
   "id": "082d747d",
   "metadata": {},
   "outputs": [
    {
     "name": "stdout",
     "output_type": "stream",
     "text": [
      "['fid', 'STANDNUMBER']\n",
      "[(45575.672119140625, 14)]\n",
      "['fid', 'STANDNUMBER']\n",
      "[(196954.72290039062, 14)]\n"
     ]
    }
   ],
   "source": [
    "features= data_qgis.getFeatures()\n",
    "\n",
    "#we test first feature data\n",
    "print ( [field.name() for field in data_qgis.fields()])\n",
    "print ( [(feature.geometry().area(),feature['fid']) for current,feature in enumerate(data_qgis.getFeatures()) if current == 0])\n",
    "\n",
    "featlayer = [feature2Layer(feature,100) for current, feature in enumerate(data_qgis.getFeatures()) if current == 0]\n",
    "featlayer[0].setCrs(data_qgis.crs())\n",
    "#we test saved vector layer data \n",
    "print ( [field.name() for field in featlayer[0].fields()])\n",
    "print ( [(f.geometry().area(),f['fid']) for f in featlayer[0].getFeatures()])"
   ]
  },
  {
   "cell_type": "code",
   "execution_count": 6,
   "id": "242168ca",
   "metadata": {},
   "outputs": [],
   "source": [
    "def copyRaster2(inp,outp):\n",
    "    \"\"\"\n",
    "    This is simple raster copy\n",
    "    \"\"\"\n",
    "    os.popen('copy '+inp+' '+outp)"
   ]
  },
  {
   "cell_type": "code",
   "execution_count": 7,
   "id": "8d113aef",
   "metadata": {},
   "outputs": [],
   "source": [
    "def focalMaximaCHM(input_raster,distance):\n",
    "    \"\"\"\n",
    "    This calculates focal maximum value by specific search distance\n",
    "    \"\"\"\n",
    "    \n",
    "    rastOut = input_raster[0:-4]+\"hh.tif\"\n",
    "    chm = gdal.Open(input_raster)\n",
    "    \n",
    "    chmB = chm.GetRasterBand(1)\n",
    "    chmA = chmB.ReadAsArray()\n",
    "    chmA = (chmA-126)*0.232 #vaihe 1\n",
    "\n",
    "    focal = calcFocal(chmA,distance) #vaihe 2\n",
    "    huip = focal - chmA\n",
    "    huip = np.where(focal-chmA==0,chmA,np.NaN)\n",
    "    huip = np.where(huip>=5,huip*10,np.NaN) #vaihe3\n",
    "    gdal_array.SaveArray(huip.astype(\"float32\"),rastOut,\"GTiff\",chm)\n",
    "\n",
    "    return rastOut"
   ]
  },
  {
   "cell_type": "code",
   "execution_count": 8,
   "id": "6de91d37",
   "metadata": {},
   "outputs": [],
   "source": [
    "def calcFocal(in_array,distance):\n",
    "    \"\"\"\n",
    "    This loops raster array and looks all cell values of each cell which are within distance values from cell\n",
    "    \"\"\"\n",
    "\n",
    "    dat =pd.DataFrame(in_array)\n",
    "    vert = dat\n",
    "    ijlist = []\n",
    "    for i in range(0-distance,distance):\n",
    "        for j in range(0-distance,distance):\n",
    "            e = sqrt(pow(i,2)+pow(j,2))\n",
    "            if e <=distance:\n",
    "                ijlist.append((i,j))\n",
    "    \n",
    "    #print (ijlist)\n",
    "\n",
    "    for i in ijlist:\n",
    "        df = dat.shift(i[0],axis=0)\n",
    "        df = df.shift(i[1],axis=1)\n",
    "        vert = pd.concat([vert,df]).max(level=0)\n",
    "    t = []\n",
    "    t.append(vert)\n",
    "    t = np.array(t)\n",
    "\n",
    "    return t"
   ]
  },
  {
   "cell_type": "code",
   "execution_count": 9,
   "id": "700178f7",
   "metadata": {},
   "outputs": [
    {
     "name": "stderr",
     "output_type": "stream",
     "text": [
      "C:\\git\\smk_tools\\processing\\getInput.py:150: ResourceWarning: unclosed file <_io.BufferedRandom name=5>\n",
      "  tempd = tempd.name+'.tif'\n",
      "ResourceWarning: Enable tracemalloc to get the object allocation traceback\n",
      "C:\\git\\smk_tools\\processing\\getInput.py:170: ResourceWarning: unclosed file <_io.BufferedWriter name='C:\\\\Users\\\\mkesala\\\\AppData\\\\Local\\\\Temp\\\\tmphbtzm0bd.tif'>\n",
      "  open(tempd,'wb').write(respo.content)\n",
      "ResourceWarning: Enable tracemalloc to get the object allocation traceback\n"
     ]
    },
    {
     "name": "stdout",
     "output_type": "stream",
     "text": [
      "1.0 1.0\n",
      "1.0 1.0\n"
     ]
    },
    {
     "data": {
      "image/png": "[encoded data removed]",
      "text/plain": [
       "<Figure size 640x480 with 1 Axes>"
      ]
     },
     "metadata": {},
     "output_type": "display_data"
    },
    {
     "data": {
      "text/plain": [
       "<AxesSubplot:>"
      ]
     },
     "execution_count": 9,
     "metadata": {},
     "output_type": "execute_result"
    }
   ],
   "source": [
    "#we test focal maxima algorithm\n",
    "chm_raster = getWebRasterLayer(featlayer[0],chm,\"\")\n",
    "chm_qgis = QgsRasterLayer(chm_raster[0], \"Your Raster Layer\")\n",
    "print (chm_qgis.rasterUnitsPerPixelX(),chm_qgis.rasterUnitsPerPixelY())\n",
    "focalMax = focalMaximaCHM(chm_raster[0],4)\n",
    "focal_qgis = QgsRasterLayer(focalMax, \"Your Raster Layer\")\n",
    "print (focal_qgis.rasterUnitsPerPixelX(),focal_qgis.rasterUnitsPerPixelY())\n",
    "test_raster = rasterio.open(focalMax)\n",
    "show(test_raster)"
   ]
  },
  {
   "cell_type": "code",
   "execution_count": 10,
   "id": "74dcf8d4",
   "metadata": {},
   "outputs": [],
   "source": [
    "def delNulls(input_vector):\n",
    "    \"\"\"\n",
    "    This deletes null-values of treemap  \n",
    "    \"\"\"\n",
    "    input_vector = QgsVectorLayer(input_vector, \"puukartta\", \"ogr\")\n",
    "    \n",
    "\n",
    "    feats = input_vector.getFeatures()\n",
    "    dfeat=[]\n",
    "    \n",
    "    for feat in feats:\n",
    "        if feat['CHM'] < 0:\n",
    "            dfeat.append(feat.id())\n",
    "\n",
    "    input_vector.dataProvider().deleteFeatures(dfeat)"
   ]
  },
  {
   "cell_type": "code",
   "execution_count": 11,
   "id": "629d0fc2",
   "metadata": {},
   "outputs": [],
   "source": [
    "def createTreeMap(input_chm,distance):\n",
    "    \"\"\"\n",
    "    This creates tree map as point layer from chm raster. Algorithm is based on local maxima at specific search distance\n",
    "    \"\"\"\n",
    "    #tempd = tempfile.TemporaryFile()\n",
    "    #tempd = tempd.name+'.shp'\n",
    "    focalMax = focalMaximaCHM(input_chm,distance)\n",
    "    tempd = processing.run(\"gdal:polygonize\", {'INPUT':focalMax,'BAND':1,'FIELD':'CHM','EIGHT_CONNECTEDNESS':False,'EXTRA':'','OUTPUT':'TEMPORARY_OUTPUT'})\n",
    "    \n",
    "    delNulls(tempd['OUTPUT'])\n",
    "    tempd = processing.run(\"native:centroids\", {'INPUT':tempd['OUTPUT'],'ALL_PARTS':False,'OUTPUT':'TEMPORARY_OUTPUT'})\n",
    "    processing.run(\"native:createspatialindex\", {'INPUT':tempd['OUTPUT']})\n",
    "\n",
    "    return tempd['OUTPUT']"
   ]
  },
  {
   "cell_type": "code",
   "execution_count": 12,
   "id": "220345ef",
   "metadata": {},
   "outputs": [
    {
     "name": "stderr",
     "output_type": "stream",
     "text": [
      "C:\\git\\smk_tools\\processing\\getInput.py:170: ResourceWarning: unclosed file <_io.BufferedWriter name='C:\\\\Users\\\\mkesala\\\\AppData\\\\Local\\\\Temp\\\\tmpb5ow0y51.tif'>\n",
      "  open(tempd,'wb').write(respo.content)\n",
      "ResourceWarning: Enable tracemalloc to get the object allocation traceback\n"
     ]
    },
    {
     "name": "stdout",
     "output_type": "stream",
     "text": [
      "5913\n"
     ]
    }
   ],
   "source": [
    "#We test chm2treemap conversion\n",
    "chm_raster = getWebRasterLayer(featlayer[0],chm,\"\")\n",
    "treemap = createTreeMap(chm_raster[0],3)\n",
    "\n",
    "print (treemap.featureCount())"
   ]
  },
  {
   "cell_type": "code",
   "execution_count": 13,
   "id": "4417b5bd",
   "metadata": {},
   "outputs": [],
   "source": [
    "def addFieldValue(in_feat:QgsVectorLayer,fieldname:str,fieldvalue:float):\n",
    "    \"\"\"\n",
    "    This adds field with given value to the vector layer\n",
    "    \"\"\"\n",
    "    fix = processing.run(\"native:fixgeometries\", {'INPUT':in_feat,'OUTPUT':'TEMPORARY_OUTPUT'})\n",
    "    fix['OUTPUT'].dataProvider().addAttributes([QgsField(fieldname,QVariant.Double)])\n",
    "    fix['OUTPUT'].updateFields()\n",
    "    with edit(fix['OUTPUT']):\n",
    "        for feat in fix['OUTPUT'].getFeatures():\n",
    "            feat['leimikko']=fieldvalue\n",
    "\n",
    "            fix['OUTPUT'].updateFeature(feat)\n",
    "    \n",
    "    return fix['OUTPUT']"
   ]
  },
  {
   "cell_type": "code",
   "execution_count": 15,
   "id": "33750e41",
   "metadata": {},
   "outputs": [
    {
     "name": "stdout",
     "output_type": "stream",
     "text": [
      "['fid', 'STANDNUMBER']\n",
      "['fid', 'STANDNUMBER', 'leimikko']\n",
      "1.0\n"
     ]
    }
   ],
   "source": [
    "print ([f.name() for f in featlayer[0].fields()])\n",
    "test = addFieldValue(featlayer[0],\"leimikko\",1)\n",
    "print ([f.name() for f in test.fields()])\n",
    "print (max([f['leimikko'] for f in test.getFeatures()]))"
   ]
  },
  {
   "cell_type": "code",
   "execution_count": 16,
   "id": "e44acae4",
   "metadata": {},
   "outputs": [],
   "source": [
    "def joinIntersection(inlayer,joinlayer,joinfields):\n",
    "    \"\"\"\n",
    "    This join by spatial intersection two layers\n",
    "    \"\"\"\n",
    "    joined = processing.run(\"native:joinattributesbylocation\", {'INPUT':inlayer,'JOIN':joinlayer,'PREDICATE':[0],'JOIN_FIELDS':joinfields,'METHOD':0,'DISCARD_NONMATCHING':False,'PREFIX':'','OUTPUT':'TEMPORARY_OUTPUT'})\n",
    "\n",
    "    return joined['OUTPUT']\n"
   ]
  }
 ],
 "metadata": {
  "kernelspec": {
   "display_name": "Python 3 (ipykernel)",
   "language": "python",
   "name": "python3"
  },
  "language_info": {
   "codemirror_mode": {
    "name": "ipython",
    "version": 3
   },
   "file_extension": ".py",
   "mimetype": "text/x-python",
   "name": "python",
   "nbconvert_exporter": "python",
   "pygments_lexer": "ipython3",
   "version": "3.9.5"
  }
 },
 "nbformat": 4,
 "nbformat_minor": 5
}
