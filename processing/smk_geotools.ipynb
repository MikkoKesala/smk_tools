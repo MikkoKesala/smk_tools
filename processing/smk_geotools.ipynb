{
 "cells": [
  {
   "cell_type": "code",
   "execution_count": null,
   "id": "6fd490a2",
   "metadata": {},
   "outputs": [
    {
     "ename": "",
     "evalue": "",
     "output_type": "error",
     "traceback": [
      "\u001b[1;31mThe Kernel crashed while executing code in the the current cell or a previous cell. Please review the code in the cell(s) to identify a possible cause of the failure. Click <a href='https://aka.ms/vscodeJupyterKernelCrash'>here</a> for more info. View Jupyter <a href='command:jupyter.viewOutput'>log</a> for further details."
     ]
    }
   ],
   "source": [
    "from osgeo import gdal,gdal_array\n",
    "from math import sqrt\n",
    "import sys,os\n",
    "import pandas as pd\n",
    "import numpy as np\n",
    "from qgis.PyQt.QtCore import QVariant\n",
    "from qgis import processing\n",
    "from qgis.analysis import QgsRasterCalculator, QgsRasterCalculatorEntry\n",
    "from qgis.core import QgsVectorLayer,QgsField,QgsFeature,QgsVectorFileWriter,QgsRasterLayer,QgsApplication,edit,QgsRectangle\n",
    "from getInput import getWebRasterLayer,getBboxWmsFormat\n",
    "\n",
    "qgis_path = str(sys.executable).split('bin')[0]+\"\\\\apps\"\n",
    "if os.path.exists(os.path.join(qgis_path,\"qgis-ltr\")):\n",
    "    qgis_path = os.path.join(qgis_path,\"qgis-ltr\")\n",
    "else:\n",
    "    qgis_pathpath  = os.path.join(qgis_path,\"qgis\")\n",
    "\n",
    "QgsApplication.setPrefixPath(QgsApplication.prefixPath(), True)\n",
    "#QgsApplication.setPrefixPath(qgis_path, True)\n",
    "qgs = QgsApplication([], False)\n",
    "qgs.initQgis()\n",
    "\n",
    "#for developing\n",
    "#QgsApplication.setPrefixPath(r'C:\\OSGeo4W\\apps\\qgis', True)\n",
    "#qgs = QgsApplication([], False)\n",
    "#qgs.initQgis()\n",
    "#sys.path.append(r'C:\\OSGeo4W\\apps\\qgis\\python\\plugins')\n",
    "sys.path.append(os.path.join(qgis_path,\"python\\plugins\"))\n",
    "#import processing\n",
    "#from processing.core.Processing import Processing\n",
    "#Processing.initialize()\n",
    "#import processing\n",
    "from qgis.analysis import QgsNativeAlgorithms\n",
    "#from processing.core.Processing import Processing\n",
    "\n",
    "import geopandas as gpd\n",
    "import rasterio\n",
    "from rasterio.plot import show"
   ]
  },
  {
   "cell_type": "code",
   "execution_count": 1,
   "id": "c37018b1",
   "metadata": {},
   "outputs": [
    {
     "ename": "NameError",
     "evalue": "name 'QgsRasterLayer' is not defined",
     "output_type": "error",
     "traceback": [
      "\u001b[1;31m---------------------------------------------------------------------------\u001b[0m",
      "\u001b[1;31mNameError\u001b[0m                                 Traceback (most recent call last)",
      "\u001b[1;32mc:\\git\\smk_tools\\processing\\smk_geotools.ipynb Cell 2\u001b[0m line \u001b[0;36m3\n\u001b[0;32m      <a href='vscode-notebook-cell:/c%3A/git/smk_tools/processing/smk_geotools.ipynb#W3sZmlsZQ%3D%3D?line=0'>1</a>\u001b[0m \u001b[39m#example weblayers\u001b[39;00m\n\u001b[0;32m      <a href='vscode-notebook-cell:/c%3A/git/smk_tools/processing/smk_geotools.ipynb#W3sZmlsZQ%3D%3D?line=1'>2</a>\u001b[0m chm \u001b[39m=\u001b[39m \u001b[39m'\u001b[39m\u001b[39mhttps://rajapinnat.metsaan.fi/geoserver/Avoinmetsatieto/CHM_newest/ows?\u001b[39m\u001b[39m'\u001b[39m\n\u001b[1;32m----> <a href='vscode-notebook-cell:/c%3A/git/smk_tools/processing/smk_geotools.ipynb#W3sZmlsZQ%3D%3D?line=2'>3</a>\u001b[0m dtw_qgis \u001b[39m=\u001b[39m QgsRasterLayer(\u001b[39m'\u001b[39m\u001b[39mdpiMode=7&identifier=paituli:luke_dtw_04&url=https://paituli.csc.fi/geoserver/paituli/wcs&http-header:referer=\u001b[39m\u001b[39m'\u001b[39m,\u001b[39m'\u001b[39m\u001b[39mdtw\u001b[39m\u001b[39m'\u001b[39m,\u001b[39m'\u001b[39m\u001b[39mwcs\u001b[39m\u001b[39m'\u001b[39m)\n\u001b[0;32m      <a href='vscode-notebook-cell:/c%3A/git/smk_tools/processing/smk_geotools.ipynb#W3sZmlsZQ%3D%3D?line=3'>4</a>\u001b[0m output_clip \u001b[39m=\u001b[39m \u001b[39mr\u001b[39m\u001b[39m'\u001b[39m\u001b[39mC:\u001b[39m\u001b[39m\\\u001b[39m\u001b[39mgit\u001b[39m\u001b[39m\\\u001b[39m\u001b[39msmk_tools\u001b[39m\u001b[39m\\\u001b[39m\u001b[39mprocessing\u001b[39m\u001b[39m\\\u001b[39m\u001b[39mdata_example\u001b[39m\u001b[39m\\\u001b[39m\u001b[39moutput\u001b[39m\u001b[39m\\\u001b[39m\u001b[39mclip_test.tif\u001b[39m\u001b[39m'\u001b[39m\n",
      "\u001b[1;31mNameError\u001b[0m: name 'QgsRasterLayer' is not defined"
     ]
    }
   ],
   "source": [
    "#example weblayers\n",
    "chm = 'https://rajapinnat.metsaan.fi/geoserver/Avoinmetsatieto/CHM_newest/ows?'\n",
    "dtw_qgis = QgsRasterLayer('dpiMode=7&identifier=paituli:luke_dtw_04&url=https://paituli.csc.fi/geoserver/paituli/wcs&http-header:referer=','dtw','wcs')\n",
    "output_clip = r'C:\\git\\smk_tools\\processing\\data_example\\output\\clip_test.tif'"
   ]
  },
  {
   "cell_type": "code",
   "execution_count": 3,
   "id": "2751e64a",
   "metadata": {},
   "outputs": [
    {
     "name": "stdout",
     "output_type": "stream",
     "text": [
      "('447658,7195245,448071,7195618', 'EPSG:3067', 413, 373)\n"
     ]
    },
    {
     "data": {
      "text/plain": [
       "<AxesSubplot:>"
      ]
     },
     "execution_count": 3,
     "metadata": {},
     "output_type": "execute_result"
    },
    {
     "data": {
      "image/png": "[encoded data removed]",
      "text/plain": [
       "<Figure size 640x480 with 1 Axes>"
      ]
     },
     "metadata": {},
     "output_type": "display_data"
    }
   ],
   "source": [
    "#example cutting area\n",
    "data_example = \"data_example\\ReTreeT.gpkg\"\n",
    "layer = \"cuttingarea\"\n",
    "data_qgis = QgsVectorLayer(data_example+\"|layername=\"+layer,\"cutarea\",\"ogr\")\n",
    "data_df = gpd.read_file(data_example,layer = layer)\n",
    "\n",
    "#data_df\n",
    "bb = getBboxWmsFormat(data_qgis)\n",
    "print (bb)\n",
    "\n",
    "data_df.plot()"
   ]
  },
  {
   "cell_type": "code",
   "execution_count": 37,
   "id": "32e3fd59",
   "metadata": {},
   "outputs": [
    {
     "name": "stdout",
     "output_type": "stream",
     "text": [
      "[447660, 7195240, 448070, 7195620]\n"
     ]
    },
    {
     "ename": "TypeError",
     "evalue": "QgsRasterCalculator(): arguments did not match any overloaded call:\n  overload 1: argument 7 has unexpected type 'QgsRasterCalculatorEntry'\n  overload 2: argument 5 has unexpected type 'int'\n  overload 3: argument 7 has unexpected type 'QgsRasterCalculatorEntry'\n  overload 4: argument 5 has unexpected type 'int'\n  overload 5: argument 1 has unexpected type 'str'",
     "output_type": "error",
     "traceback": [
      "\u001b[1;31m---------------------------------------------------------------------------\u001b[0m",
      "\u001b[1;31mTypeError\u001b[0m                                 Traceback (most recent call last)",
      "\u001b[1;32mc:\\git\\smk_tools\\processing\\smk_geotools.ipynb Cell 4\u001b[0m line \u001b[0;36m2\n\u001b[0;32m     <a href='vscode-notebook-cell:/c%3A/git/smk_tools/processing/smk_geotools.ipynb#X24sZmlsZQ%3D%3D?line=16'>17</a>\u001b[0m entry\u001b[39m.\u001b[39mbandNumber \u001b[39m=\u001b[39m \u001b[39m1\u001b[39m\n\u001b[0;32m     <a href='vscode-notebook-cell:/c%3A/git/smk_tools/processing/smk_geotools.ipynb#X24sZmlsZQ%3D%3D?line=17'>18</a>\u001b[0m \u001b[39m#entry.feeder = QgsRasterCalculatorEntry().raster\u001b[39;00m\n\u001b[0;32m     <a href='vscode-notebook-cell:/c%3A/git/smk_tools/processing/smk_geotools.ipynb#X24sZmlsZQ%3D%3D?line=18'>19</a>\u001b[0m \u001b[39m#QgsRasterCalculator()\u001b[39;00m\n\u001b[1;32m---> <a href='vscode-notebook-cell:/c%3A/git/smk_tools/processing/smk_geotools.ipynb#X24sZmlsZQ%3D%3D?line=19'>20</a>\u001b[0m calc \u001b[39m=\u001b[39m QgsRasterCalculator(\n\u001b[0;32m     <a href='vscode-notebook-cell:/c%3A/git/smk_tools/processing/smk_geotools.ipynb#X24sZmlsZQ%3D%3D?line=20'>21</a>\u001b[0m     dtw_qgis\u001b[39m.\u001b[39;49mname()\u001b[39m+\u001b[39;49m\u001b[39m'\u001b[39;49m\u001b[39m@1\u001b[39;49m\u001b[39m'\u001b[39;49m,\n\u001b[0;32m     <a href='vscode-notebook-cell:/c%3A/git/smk_tools/processing/smk_geotools.ipynb#X24sZmlsZQ%3D%3D?line=21'>22</a>\u001b[0m     output_clip,\n\u001b[0;32m     <a href='vscode-notebook-cell:/c%3A/git/smk_tools/processing/smk_geotools.ipynb#X24sZmlsZQ%3D%3D?line=22'>23</a>\u001b[0m     output_format,\n\u001b[0;32m     <a href='vscode-notebook-cell:/c%3A/git/smk_tools/processing/smk_geotools.ipynb#X24sZmlsZQ%3D%3D?line=23'>24</a>\u001b[0m     bbox_qg,\n\u001b[0;32m     <a href='vscode-notebook-cell:/c%3A/git/smk_tools/processing/smk_geotools.ipynb#X24sZmlsZQ%3D%3D?line=24'>25</a>\u001b[0m     output_width,\n\u001b[0;32m     <a href='vscode-notebook-cell:/c%3A/git/smk_tools/processing/smk_geotools.ipynb#X24sZmlsZQ%3D%3D?line=25'>26</a>\u001b[0m     output_height,\n\u001b[0;32m     <a href='vscode-notebook-cell:/c%3A/git/smk_tools/processing/smk_geotools.ipynb#X24sZmlsZQ%3D%3D?line=26'>27</a>\u001b[0m     entry\n\u001b[0;32m     <a href='vscode-notebook-cell:/c%3A/git/smk_tools/processing/smk_geotools.ipynb#X24sZmlsZQ%3D%3D?line=27'>28</a>\u001b[0m )\n\u001b[0;32m     <a href='vscode-notebook-cell:/c%3A/git/smk_tools/processing/smk_geotools.ipynb#X24sZmlsZQ%3D%3D?line=28'>29</a>\u001b[0m calc\u001b[39m.\u001b[39mprocessCalculation()\n\u001b[0;32m     <a href='vscode-notebook-cell:/c%3A/git/smk_tools/processing/smk_geotools.ipynb#X24sZmlsZQ%3D%3D?line=30'>31</a>\u001b[0m test_raster \u001b[39m=\u001b[39m rasterio\u001b[39m.\u001b[39mopen(output_clip)\n",
      "\u001b[1;31mTypeError\u001b[0m: QgsRasterCalculator(): arguments did not match any overloaded call:\n  overload 1: argument 7 has unexpected type 'QgsRasterCalculatorEntry'\n  overload 2: argument 5 has unexpected type 'int'\n  overload 3: argument 7 has unexpected type 'QgsRasterCalculatorEntry'\n  overload 4: argument 5 has unexpected type 'int'\n  overload 5: argument 1 has unexpected type 'str'"
     ]
    }
   ],
   "source": [
    "bb = getBboxWmsFormat(data_qgis)\n",
    "bbox = bb[0].split(',')\n",
    "bbox = [int(round(float(i),-1)) for i in bbox]\n",
    "print (bbox)\n",
    "bbox_qg = QgsRectangle(bbox[0],bbox[1],bbox[2],bbox[3])\n",
    "#dtw_qgis.setExtent(bbox_qg)\n",
    "x = int(round(dtw_qgis.rasterUnitsPerPixelX(),0))\n",
    "y = int(round(dtw_qgis.rasterUnitsPerPixelY(),0))\n",
    "output_width = int((bbox[2]-bbox[0]) / x)  # Adjust as needed\n",
    "output_height = int((bbox[3]-bbox[1]) / y) # Adjust as needed\n",
    "output_format = \"GTiff\"  # Adjust for your desired output format\n",
    "output_data_type = QVariant.Double  # Adjust for your desired data type\n",
    "\n",
    "entry = QgsRasterCalculatorEntry().rasterEntries\n",
    "entry.ref = data_qgis.name()+\"@1\"\n",
    "entry.raster = dtw_qgis\n",
    "entry.bandNumber = 1\n",
    "#entry.feeder = QgsRasterCalculatorEntry().raster\n",
    "QgsRasterCalculator()\n",
    "calc = QgsRasterCalculator(\n",
    "    dtw_qgis.name()+'@1',\n",
    "    output_clip,\n",
    "    output_format,\n",
    "    bbox_qg,\n",
    "    output_width,\n",
    "    output_height,\n",
    "    entry\n",
    ")\n",
    "calc.processCalculation()\n",
    "\n",
    "test_raster = rasterio.open(output_clip)\n",
    "show(test_raster)"
   ]
  },
  {
   "cell_type": "code",
   "execution_count": 26,
   "id": "643e9165",
   "metadata": {},
   "outputs": [
    {
     "name": "stdout",
     "output_type": "stream",
     "text": [
      "dtw\n",
      "2.0000000000000004\n"
     ]
    }
   ],
   "source": [
    "print (dtw_qgis.name())\n",
    "print (dtw_qgis.rasterUnitsPerPixelX())\n"
   ]
  },
  {
   "cell_type": "code",
   "execution_count": 4,
   "id": "211885ea",
   "metadata": {},
   "outputs": [],
   "source": [
    "def feature2Layer(feat,buffer):\n",
    "    \"\"\"\n",
    "    This creates vectorlayer from feature. You can buffer feature at specific distance\n",
    "    \"\"\"\n",
    "    vl = QgsVectorLayer(\"Polygon\", \"temporary_points\", \"memory\")\n",
    "    pr = vl.dataProvider()\n",
    "\n",
    "    # add fields\n",
    "    vl.startEditing()\n",
    "    pr.addAttributes(feat.fields())\n",
    "    vl.updateFields() # tell the vector layer to fetch changes from the provider\n",
    "\n",
    "    fet = QgsFeature()\n",
    "    fet.setGeometry(feat.geometry().buffer(buffer,5))\n",
    "    #fet.setGeometry(feat.geometry())\n",
    "    fet.setAttributes(feat.attributes())\n",
    "    pr.addFeatures([fet])\n",
    "\n",
    "    vl.updateExtents()\n",
    "    vl.commitChanges()\n",
    "\n",
    "    return vl\n"
   ]
  },
  {
   "cell_type": "code",
   "execution_count": 5,
   "id": "082d747d",
   "metadata": {},
   "outputs": [
    {
     "name": "stdout",
     "output_type": "stream",
     "text": [
      "['fid', 'STANDNUMBER']\n",
      "[(45575.672119140625, 14)]\n",
      "['fid', 'STANDNUMBER']\n",
      "[(196954.72290039062, 14)]\n"
     ]
    }
   ],
   "source": [
    "features= data_qgis.getFeatures()\n",
    "\n",
    "#we test first feature data\n",
    "print ( [field.name() for field in data_qgis.fields()])\n",
    "print ( [(feature.geometry().area(),feature['fid']) for current,feature in enumerate(data_qgis.getFeatures()) if current == 0])\n",
    "\n",
    "featlayer = [feature2Layer(feature,100) for current, feature in enumerate(data_qgis.getFeatures()) if current == 0]\n",
    "featlayer[0].setCrs(data_qgis.crs())\n",
    "#we test saved vector layer data \n",
    "print ( [field.name() for field in featlayer[0].fields()])\n",
    "print ( [(f.geometry().area(),f['fid']) for f in featlayer[0].getFeatures()])"
   ]
  },
  {
   "cell_type": "code",
   "execution_count": 6,
   "id": "242168ca",
   "metadata": {},
   "outputs": [],
   "source": [
    "def copyRaster2(inp,outp):\n",
    "    \"\"\"\n",
    "    This is simple raster copy\n",
    "    \"\"\"\n",
    "    os.popen('copy '+inp+' '+outp)"
   ]
  },
  {
   "cell_type": "code",
   "execution_count": 7,
   "id": "8d113aef",
   "metadata": {},
   "outputs": [],
   "source": [
    "def focalMaximaCHM(input_raster,distance):\n",
    "    \"\"\"\n",
    "    This calculates focal maximum value by specific search distance\n",
    "    \"\"\"\n",
    "    \n",
    "    rastOut = input_raster[0:-4]+\"hh.tif\"\n",
    "    chm = gdal.Open(input_raster)\n",
    "    \n",
    "    chmB = chm.GetRasterBand(1)\n",
    "    chmA = chmB.ReadAsArray()\n",
    "    chmA = (chmA-126)*0.232 #vaihe 1\n",
    "\n",
    "    focal = calcFocal(chmA,distance) #vaihe 2\n",
    "    huip = focal - chmA\n",
    "    huip = np.where(focal-chmA==0,chmA,np.NaN)\n",
    "    huip = np.where(huip>=5,huip*10,np.NaN) #vaihe3\n",
    "    gdal_array.SaveArray(huip.astype(\"float32\"),rastOut,\"GTiff\",chm)\n",
    "\n",
    "    return rastOut"
   ]
  },
  {
   "cell_type": "code",
   "execution_count": 8,
   "id": "6de91d37",
   "metadata": {},
   "outputs": [],
   "source": [
    "def calcFocal(in_array,distance):\n",
    "    \"\"\"\n",
    "    This loops raster array and looks all cell values of each cell which are within distance values from cell\n",
    "    \"\"\"\n",
    "\n",
    "    dat =pd.DataFrame(in_array)\n",
    "    vert = dat\n",
    "    ijlist = []\n",
    "    for i in range(0-distance,distance):\n",
    "        for j in range(0-distance,distance):\n",
    "            e = sqrt(pow(i,2)+pow(j,2))\n",
    "            if e <=distance:\n",
    "                ijlist.append((i,j))\n",
    "    \n",
    "    #print (ijlist)\n",
    "\n",
    "    for i in ijlist:\n",
    "        df = dat.shift(i[0],axis=0)\n",
    "        df = df.shift(i[1],axis=1)\n",
    "        vert = pd.concat([vert,df]).max(level=0)\n",
    "    t = []\n",
    "    t.append(vert)\n",
    "    t = np.array(t)\n",
    "\n",
    "    return t"
   ]
  },
  {
   "cell_type": "code",
   "execution_count": 9,
   "id": "700178f7",
   "metadata": {},
   "outputs": [
    {
     "name": "stderr",
     "output_type": "stream",
     "text": [
      "C:\\git\\smk_tools\\processing\\getInput.py:150: ResourceWarning: unclosed file <_io.BufferedRandom name=5>\n",
      "  tempd = tempd.name+'.tif'\n",
      "ResourceWarning: Enable tracemalloc to get the object allocation traceback\n",
      "C:\\git\\smk_tools\\processing\\getInput.py:170: ResourceWarning: unclosed file <_io.BufferedWriter name='C:\\\\Users\\\\mkesala\\\\AppData\\\\Local\\\\Temp\\\\tmphbtzm0bd.tif'>\n",
      "  open(tempd,'wb').write(respo.content)\n",
      "ResourceWarning: Enable tracemalloc to get the object allocation traceback\n"
     ]
    },
    {
     "name": "stdout",
     "output_type": "stream",
     "text": [
      "1.0 1.0\n",
      "1.0 1.0\n"
     ]
    },
    {
     "data": {
      "image/png": "[encoded data removed]",
      "text/plain": [
       "<Figure size 640x480 with 1 Axes>"
      ]
     },
     "metadata": {},
     "output_type": "display_data"
    },
    {
     "data": {
      "text/plain": [
       "<AxesSubplot:>"
      ]
     },
     "execution_count": 9,
     "metadata": {},
     "output_type": "execute_result"
    }
   ],
   "source": [
    "#we test focal maxima algorithm\n",
    "chm_raster = getWebRasterLayer(featlayer[0],chm,\"\")\n",
    "chm_qgis = QgsRasterLayer(chm_raster[0], \"Your Raster Layer\")\n",
    "print (chm_qgis.rasterUnitsPerPixelX(),chm_qgis.rasterUnitsPerPixelY())\n",
    "focalMax = focalMaximaCHM(chm_raster[0],4)\n",
    "focal_qgis = QgsRasterLayer(focalMax, \"Your Raster Layer\")\n",
    "print (focal_qgis.rasterUnitsPerPixelX(),focal_qgis.rasterUnitsPerPixelY())\n",
    "test_raster = rasterio.open(focalMax)\n",
    "show(test_raster)"
   ]
  },
  {
   "cell_type": "code",
   "execution_count": 10,
   "id": "74dcf8d4",
   "metadata": {},
   "outputs": [],
   "source": [
    "def delNulls(input_vector):\n",
    "    \"\"\"\n",
    "    This deletes null-values of treemap  \n",
    "    \"\"\"\n",
    "    input_vector = QgsVectorLayer(input_vector, \"puukartta\", \"ogr\")\n",
    "    \n",
    "\n",
    "    feats = input_vector.getFeatures()\n",
    "    dfeat=[]\n",
    "    \n",
    "    for feat in feats:\n",
    "        if feat['CHM'] < 0:\n",
    "            dfeat.append(feat.id())\n",
    "\n",
    "    input_vector.dataProvider().deleteFeatures(dfeat)"
   ]
  },
  {
   "cell_type": "code",
   "execution_count": 11,
   "id": "629d0fc2",
   "metadata": {},
   "outputs": [],
   "source": [
    "def createTreeMap(input_chm,distance):\n",
    "    \"\"\"\n",
    "    This creates tree map as point layer from chm raster. Algorithm is based on local maxima at specific search distance\n",
    "    \"\"\"\n",
    "    #tempd = tempfile.TemporaryFile()\n",
    "    #tempd = tempd.name+'.shp'\n",
    "    focalMax = focalMaximaCHM(input_chm,distance)\n",
    "    tempd = processing.run(\"gdal:polygonize\", {'INPUT':focalMax,'BAND':1,'FIELD':'CHM','EIGHT_CONNECTEDNESS':False,'EXTRA':'','OUTPUT':'TEMPORARY_OUTPUT'})\n",
    "    \n",
    "    delNulls(tempd['OUTPUT'])\n",
    "    tempd = processing.run(\"native:centroids\", {'INPUT':tempd['OUTPUT'],'ALL_PARTS':False,'OUTPUT':'TEMPORARY_OUTPUT'})\n",
    "    processing.run(\"native:createspatialindex\", {'INPUT':tempd['OUTPUT']})\n",
    "\n",
    "    return tempd['OUTPUT']"
   ]
  },
  {
   "cell_type": "code",
   "execution_count": 12,
   "id": "220345ef",
   "metadata": {},
   "outputs": [
    {
     "name": "stderr",
     "output_type": "stream",
     "text": [
      "C:\\git\\smk_tools\\processing\\getInput.py:170: ResourceWarning: unclosed file <_io.BufferedWriter name='C:\\\\Users\\\\mkesala\\\\AppData\\\\Local\\\\Temp\\\\tmpb5ow0y51.tif'>\n",
      "  open(tempd,'wb').write(respo.content)\n",
      "ResourceWarning: Enable tracemalloc to get the object allocation traceback\n"
     ]
    },
    {
     "name": "stdout",
     "output_type": "stream",
     "text": [
      "5913\n"
     ]
    }
   ],
   "source": [
    "#We test chm2treemap conversion\n",
    "chm_raster = getWebRasterLayer(featlayer[0],chm,\"\")\n",
    "treemap = createTreeMap(chm_raster[0],3)\n",
    "\n",
    "print (treemap.featureCount())"
   ]
  },
  {
   "cell_type": "code",
   "execution_count": 13,
   "id": "4417b5bd",
   "metadata": {},
   "outputs": [],
   "source": [
    "def addFieldValue(in_feat:QgsVectorLayer,fieldname:str,fieldvalue:float):\n",
    "    \"\"\"\n",
    "    This adds field with given value to the vector layer\n",
    "    \"\"\"\n",
    "    fix = processing.run(\"native:fixgeometries\", {'INPUT':in_feat,'OUTPUT':'TEMPORARY_OUTPUT'})\n",
    "    fix['OUTPUT'].dataProvider().addAttributes([QgsField(fieldname,QVariant.Double)])\n",
    "    fix['OUTPUT'].updateFields()\n",
    "    with edit(fix['OUTPUT']):\n",
    "        for feat in fix['OUTPUT'].getFeatures():\n",
    "            feat['leimikko']=fieldvalue\n",
    "\n",
    "            fix['OUTPUT'].updateFeature(feat)\n",
    "    \n",
    "    return fix['OUTPUT']"
   ]
  },
  {
   "cell_type": "code",
   "execution_count": 15,
   "id": "33750e41",
   "metadata": {},
   "outputs": [
    {
     "name": "stdout",
     "output_type": "stream",
     "text": [
      "['fid', 'STANDNUMBER']\n",
      "['fid', 'STANDNUMBER', 'leimikko']\n",
      "1.0\n"
     ]
    }
   ],
   "source": [
    "print ([f.name() for f in featlayer[0].fields()])\n",
    "test = addFieldValue(featlayer[0],\"leimikko\",1)\n",
    "print ([f.name() for f in test.fields()])\n",
    "print (max([f['leimikko'] for f in test.getFeatures()]))"
   ]
  },
  {
   "cell_type": "code",
   "execution_count": 16,
   "id": "e44acae4",
   "metadata": {},
   "outputs": [],
   "source": [
    "def joinIntersection(inlayer,joinlayer,joinfields):\n",
    "    \"\"\"\n",
    "    This join by spatial intersection two layers\n",
    "    \"\"\"\n",
    "    joined = processing.run(\"native:joinattributesbylocation\", {'INPUT':inlayer,'JOIN':joinlayer,'PREDICATE':[0],'JOIN_FIELDS':joinfields,'METHOD':0,'DISCARD_NONMATCHING':False,'PREFIX':'','OUTPUT':'TEMPORARY_OUTPUT'})\n",
    "\n",
    "    return joined['OUTPUT']\n"
   ]
  },
  {
   "cell_type": "code",
   "execution_count": null,
   "id": "baa25c57",
   "metadata": {},
   "outputs": [],
   "source": [
    "def optimizeRetentioTrees(in_feat:QgsVectorLayer,cutting_area:QgsVectorLayer,protected_area:QgsVectorLayer,treecount:int):\n",
    "    \n",
    "    \n",
    "    in_feat.dataProvider().addAttributes([QgsField(\"reTree\",QVariant.Int)])\n",
    "    in_feat.updateFields()\n",
    "\n",
    "    #Rajataan leimikkoon ja poistetaan suojelualueet\n",
    "    if protected_area is True:\n",
    "        joinIntersection\n",
    "    NoLeim = [feat.id() for feat in in_feat.getFeatures() if feat['leimikko']!=1 or feat['OBJECTID'] is not None or feat['SPECIALFEATUREADDITIONALCODE']== 43]\n",
    "    in_feat.dataProvider().deleteFeatures(NoLeim)\n",
    "    in_feat.updateFields()\n",
    "\n",
    "    #if in_feat.featureCount()==0:\n",
    "    \n",
    "    #normalizeValue(in_feat,'HS_1')\n",
    "    opt = np.array([feat['HS_1'] for feat in in_feat.getFeatures()])\n",
    "\n",
    "    #kopioidaan taso\n",
    "    #in_feat.selectAll()\n",
    "    #clone = processing.run(\"native:saveselectedfeatures\",{'INPUT':in_feat,'OUTPUT':'TEMPORARY_OUTPUT'})\n",
    "    #clone = clone['OUTPUT']\n",
    "    #in_feat.removeSelection()\n",
    "\n",
    "    #rajataan\n",
    "    #OPT = np.array([i[0] for i in arcpy.da.SearchCursor(temp,['OPT_value_HS'][0])])\n",
    "\n",
    "    treecount = int(round(float(treec) * float(leimArea),0))\n",
    "    pvalue = opt[np.argsort(opt)[-treecount]]\n",
    "    #arcpy.CopyFeatures_management(temp,in_feat)\n",
    "    \n",
    "    with edit(in_feat):\n",
    "        for feat in in_feat.getFeatures():\n",
    "            if feat['HS_1']>=pvalue:\n",
    "                feat['reTree']=1\n",
    "            else:\n",
    "                feat['reTree']=0\n",
    "            in_feat.updateFeature(feat)\n",
    "    \n",
    "    return in_feat\n",
    "    #noReTree = [feat.id() for feat in in_feat.getFeatures() if feat['HS_1']<pvalue]\n",
    "    #clone.dataProvider().deleteFeatures(noReTree)"
   ]
  }
 ],
 "metadata": {
  "kernelspec": {
   "display_name": "Python 3 (ipykernel)",
   "language": "python",
   "name": "python3"
  },
  "language_info": {
   "codemirror_mode": {
    "name": "ipython",
    "version": 3
   },
   "file_extension": ".py",
   "mimetype": "text/x-python",
   "name": "python",
   "nbconvert_exporter": "python",
   "pygments_lexer": "ipython3",
   "version": "3.9.5"
  }
 },
 "nbformat": 4,
 "nbformat_minor": 5
}
