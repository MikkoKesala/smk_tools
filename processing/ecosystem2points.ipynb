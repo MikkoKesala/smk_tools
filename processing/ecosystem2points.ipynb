{
 "cells": [
  {
   "cell_type": "code",
   "execution_count": 2,
   "metadata": {},
   "outputs": [],
   "source": [
    "from stat import S_ISLNK\n",
    "from qgis import processing\n",
    "from qgis.PyQt.QtGui import QIcon\n",
    "from qgis.PyQt.QtCore import QCoreApplication,QVariant\n",
    "from qgis.core import (QgsProcessing,\n",
    "                       QgsField,\n",
    "                       QgsFeatureSink,\n",
    "                       QgsProcessingParameterFeatureSource,QgsProcessingParameterRasterLayer,\n",
    "                       QgsProcessingModelParameter,\n",
    "                       QgsProcessingAlgorithm,\n",
    "                       QgsProcessingParameterEnum,\n",
    "                       QgsProcessingParameterMapLayer,\n",
    "                       QgsProcessingParameterFeatureSink,\n",
    "                       QgsProcessingParameterNumber,\n",
    "                       QgsProcessingParameterDefinition,\n",
    "                       QgsProcessingUtils,QgsRasterLayer,QgsVectorLayer)\n",
    "import os,time,sys\n",
    "\n",
    "#from PIL import Image\n",
    "from getInput import getWebRasterLayer,getWebVectorLayer,getProtectedSites\n",
    "from smk_geotools import feature2Layer,createTreeMap,addFieldValue,joinIntersection\n",
    "from smk_essmodels import runEssModel\n",
    "#from saastopuu import *\n"
   ]
  },
  {
   "cell_type": "code",
   "execution_count": null,
   "id": "7deda3c3",
   "metadata": {},
   "outputs": [],
   "source": []
  }
 ],
 "metadata": {
  "kernelspec": {
   "display_name": "Python 3",
   "language": "python",
   "name": "python3"
  },
  "language_info": {
   "codemirror_mode": {
    "name": "ipython",
    "version": 3
   },
   "file_extension": ".py",
   "mimetype": "text/x-python",
   "name": "python",
   "nbconvert_exporter": "python",
   "pygments_lexer": "ipython3",
   "version": "3.9.5"
  }
 },
 "nbformat": 4,
 "nbformat_minor": 5
}
