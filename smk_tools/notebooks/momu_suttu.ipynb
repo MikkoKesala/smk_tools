{
 "cells": [
  {
   "cell_type": "code",
   "execution_count": 3,
   "id": "e09879c1",
   "metadata": {},
   "outputs": [
    {
     "name": "stdout",
     "output_type": "stream",
     "text": [
      "1,2,3,4,5,6,76\n",
      "[1, 2, 3, 4, 5, 6, 76]\n"
     ]
    }
   ],
   "source": [
    "test = \"1,2,3,4,5,6,76\"\n",
    "print (test)\n",
    "\n",
    "uu = list(map(int,list(test.split(\",\"))))\n",
    "print (uu)"
   ]
  },
  {
   "cell_type": "code",
   "execution_count": 7,
   "id": "a39efb04",
   "metadata": {},
   "outputs": [
    {
     "name": "stdout",
     "output_type": "stream",
     "text": [
      "terve 5\n",
      "terve 10\n",
      "terve 15\n",
      "terve 20\n",
      "terve 25\n",
      "terve 30\n",
      "terve 35\n",
      "terve 40\n",
      "terve 45\n",
      "terve 50\n",
      "terve 55\n",
      "51\n",
      "52\n",
      "53\n",
      "54\n"
     ]
    }
   ],
   "source": [
    "for i in range(5,100,5):\n",
    "    print (\"terve \"+str(i))\n",
    "    if i > 50:\n",
    "        for j in range(i-4,i,1):\n",
    "            print (j)\n",
    "            if j>53:\n",
    "                break\n",
    "        break"
   ]
  },
  {
   "cell_type": "code",
   "execution_count": 13,
   "id": "0f8c56c0",
   "metadata": {},
   "outputs": [
    {
     "name": "stdout",
     "output_type": "stream",
     "text": [
      "<class 'float'>\n"
     ]
    }
   ],
   "source": [
    "value = 1.0\n",
    "if type(value) in (float,int):\n",
    "    print(type(value))"
   ]
  },
  {
   "cell_type": "code",
   "execution_count": 1,
   "id": "f6378330",
   "metadata": {},
   "outputs": [
    {
     "name": "stdout",
     "output_type": "stream",
     "text": [
      "1\n"
     ]
    }
   ],
   "source": [
    "dlist = [3.1,4.2,2.1]\n",
    "d = max(dlist)\n",
    "maxpos = dlist.index(d)\n",
    "print (maxpos)"
   ]
  },
  {
   "cell_type": "code",
   "execution_count": 2,
   "id": "022baf3d",
   "metadata": {},
   "outputs": [
    {
     "name": "stdout",
     "output_type": "stream",
     "text": [
      "29\n"
     ]
    }
   ],
   "source": [
    "puulaji_d = {0:2,1:29,2:1}\n",
    "puulaji = puulaji_d[dlist.index(d)]\n",
    "print (puulaji)"
   ]
  },
  {
   "cell_type": "code",
   "execution_count": 6,
   "id": "675c275d",
   "metadata": {},
   "outputs": [
    {
     "name": "stdout",
     "output_type": "stream",
     "text": [
      "44.7\n"
     ]
    }
   ],
   "source": [
    "lp_osuus = round (dlist[1] / sum(dlist)*100,1)\n",
    "print (lp_osuus)"
   ]
  }
 ],
 "metadata": {
  "kernelspec": {
   "display_name": "Python 3 (ipykernel)",
   "language": "python",
   "name": "python3"
  },
  "language_info": {
   "codemirror_mode": {
    "name": "ipython",
    "version": 3
   },
   "file_extension": ".py",
   "mimetype": "text/x-python",
   "name": "python",
   "nbconvert_exporter": "python",
   "pygments_lexer": "ipython3",
   "version": "3.9.5"
  }
 },
 "nbformat": 4,
 "nbformat_minor": 5
}
