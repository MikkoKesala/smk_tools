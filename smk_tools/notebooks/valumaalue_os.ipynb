{
 "cells": [
  {
   "cell_type": "markdown",
   "id": "0ed97acc",
   "metadata": {},
   "source": [
    "## valuma-alue työkalu avoimeen lähdekoodiin"
   ]
  },
  {
   "cell_type": "markdown",
   "id": "a62140b5",
   "metadata": {},
   "source": [
    "###  Ympäristö"
   ]
  },
  {
   "cell_type": "code",
   "execution_count": 2,
   "id": "725a89c4",
   "metadata": {},
   "outputs": [],
   "source": [
    "import geopandas as gpd\n",
    "from qgis.core import *\n",
    "from qgis.analysis import QgsNativeAlgorithms\n",
    "from qgis.utils import *\n",
    "import os, sys,tempfile,requests,json\n",
    "import matplotlib.pyplot as plt\n",
    "from qgis.core import QgsProcessingMultiStepFeedback\n",
    "from osgeo import gdal,gdal_array\n",
    "\n",
    "QgsApplication.setPrefixPath(r'C:\\OSGeo4W\\apps\\qgis', True)\n",
    "qgs = QgsApplication([], False)\n",
    "qgs.initQgis()\n",
    "sys.path.append(r'C:\\OSGeo4W\\apps\\qgis\\python\\plugins')\n",
    "import processing\n",
    "from processing.core.Processing import Processing\n",
    "Processing.initialize()"
   ]
  },
  {
   "cell_type": "markdown",
   "id": "051e0cc0",
   "metadata": {},
   "source": [
    "### Aineiston lukeminen"
   ]
  },
  {
   "cell_type": "code",
   "execution_count": 3,
   "id": "1d60c476",
   "metadata": {},
   "outputs": [],
   "source": [
    "purku = r'C:/Users/mkesala/Desktop/Kompassi_v4d/Kompassi_data.gpkg'\n",
    "layer='Pistehavainto'\n",
    "jako5 = QgsVectorLayer(\"crs='EPSG:3067' crs='EPSG:3067' url='https://paikkatieto.ymparisto.fi/arcgis/rest/services/LAPIO/LAPIO_hydrografia/MapServer/23'\",\"jako5\",\"arcgisfeatureserver\")\n",
    "DEM = \"https://aineistot.metsakeskus.fi/metsakeskus/services/Vesiensuojelu/DEM/MapServer/WCSServer\"\n",
    "D8 = \"https://aineistot.metsakeskus.fi/metsakeskus/services/Vesiensuojelu/D8_suomi/ImageServer/WCSServer\"\n",
    "snapdist = 5\n",
    "inp = QgsVectorLayer(purku+\"|layername=\"+layer,\"point\",\"ogr\")\n",
    "feedback = QgsProcessingFeedback()"
   ]
  },
  {
   "cell_type": "code",
   "execution_count": 4,
   "id": "dbae0c6e",
   "metadata": {},
   "outputs": [],
   "source": [
    "def getBboxWmsFormat(in_feat:QgsVectorLayer):\n",
    "    desc=in_feat.extent()\n",
    "    x_min=int(desc.xMinimum())\n",
    "    y_min=int(desc.yMinimum())\n",
    "    x_max=int(desc.xMaximum())+1\n",
    "    y_max=int(desc.yMaximum())+1\n",
    "    srid=str(in_feat.crs().authid())\n",
    "    exte = str(x_min)+\",\"+str(y_min)+\",\"+str(x_max)+\",\"+str(y_max)\n",
    "    witdth = x_max - x_min\n",
    "    height = y_max - y_min\n",
    "    \n",
    "    return exte,srid,witdth,height"
   ]
  },
  {
   "cell_type": "code",
   "execution_count": 5,
   "id": "4232cc92",
   "metadata": {},
   "outputs": [],
   "source": [
    "def getWater(input_polygon:QgsVectorLayer,taso):\n",
    "    tempd = tempfile.TemporaryFile()\n",
    "    tempd = tempd.name+str(taso)+'.tif'\n",
    "    bbox = getBboxWmsFormat(input_polygon)\n",
    "    \n",
    "    ss = bbox[0].split(',')\n",
    "    \n",
    "    wmsurl = 'https://aineistot.metsakeskus.fi/metsakeskus/rest/services/Vesiensuojelu/'+taso+'/ImageServer/exportImage?'\n",
    "    params = {\"bbox\":str(round(int(ss[0])-100,-1))+\",\"+str(round(int(ss[1])-100,-1))+\",\"+str(round(int(ss[2])+100,-1))+\",\"+str(round(int(ss[3])+100,-1)),\n",
    "                \"bboxSR\":3067,\n",
    "                \"size\":str((round(int(ss[2])+100,-1)-round(int(ss[0])-100,-1))/2)+\",\"+str((round(int(ss[3])+100,-1) - round(int(ss[1])-100,-1))/2),\n",
    "                \"imageSR\":3067,\n",
    "                \"format\":'tiff',\n",
    "                \"pixelType\":\"F32\",\n",
    "                \"noData\":-9999,\n",
    "                \"noDataInterpretation\":\"esriNoDataMatchAny\",\n",
    "                \"interpolation\":\"+RSP_BilinearInterpolation\",\n",
    "                \"f\":\"image\"}\n",
    "\n",
    "    try:\n",
    "        respo= requests.get(wmsurl,params,allow_redirects=True)\n",
    "        \n",
    "        if respo.status_code != 200:\n",
    "           info = \"Cannot connect to \"+str(taso)+ \" data: \"+str(wmsurl)\n",
    "           infolevel = 3\n",
    "        else:\n",
    "            open(tempd,'wb').write(respo.content)\n",
    "    \n",
    "    except:\n",
    "        info = \"Cannot connect to \"+str(taso)+ \" data: \"+str(wmsurl)\n",
    "        infolevel = 3\n",
    "    \n",
    "        \n",
    "    try:\n",
    "        test = gdal.Open(tempd)\n",
    "        test_b = test.GetRasterBand(1)\n",
    "        test_a = test_b.ReadAsArray()\n",
    "        if np.max(test_a) > 1:\n",
    "            info = str(taso)+\" data is ok!\"\n",
    "            infolevel = 1\n",
    "            del test,test_b,test_a\n",
    "        else:\n",
    "           info = \"Not able find \"+str(taso)+\" data from area: \"+str(bbox[0])\n",
    "           infolevel = 3\n",
    "    except:\n",
    "        info = \"Not able find \"+str(taso)+\" data from area: \"+str(bbox[0])\n",
    "        infolevel = 3\n",
    "\n",
    "    return tempd,info,infolevel"
   ]
  },
  {
   "cell_type": "code",
   "execution_count": 8,
   "id": "b1abd463",
   "metadata": {},
   "outputs": [],
   "source": [
    "class MyFeedBack(QgsProcessingFeedback):\n",
    "\n",
    "    def setProgressText(self, text):\n",
    "        print(str(text))\n",
    "    \"\"\"\n",
    "    def pushInfo(self, info):\n",
    "        print(info)\n",
    "\n",
    "    def pushCommandInfo(self, info):\n",
    "        print(info)\n",
    "\n",
    "    def pushDebugInfo(self, info):\n",
    "        print(info)\n",
    "\n",
    "    def pushConsoleInfo(self, info):\n",
    "        print(info)\n",
    "\n",
    "    def reportError(self, error, fatalError=False):\n",
    "        print(error)\"\"\""
   ]
  },
  {
   "cell_type": "code",
   "execution_count": 6,
   "id": "cff0b1d4",
   "metadata": {},
   "outputs": [
    {
     "name": "stdout",
     "output_type": "stream",
     "text": [
      "1\n",
      "1\n"
     ]
    }
   ],
   "source": [
    "\"\"\"\n",
    "snap = processing.run(\"saga:snappointstoraster\",\n",
    "                      {'INPUT':purku+\"|layername=\"+layer,\n",
    "                       'GRID':DEM,\n",
    "                       'OUTPUT':'TEMPORARY_OUTPUT',\n",
    "                       'MOVES':'TEMPORARY_OUTPUT',\n",
    "                       'DISTANCE':snapdist,\n",
    "                       'SHAPE':0,\n",
    "                       'EXTREME':0})\n",
    "snap = QgsVectorLayer(snap[\"OUTPUT\"],\"snap\",\"ogr\")\n",
    "print (snap.featureCount())\n",
    "\"\"\"\n",
    "jako5_raj = processing.run(\"native:joinattributesbylocation\",\n",
    "                           {'INPUT':jako5,\n",
    "                            'PREDICATE':[0],\n",
    "                            'JOIN':inp,\n",
    "                            'JOIN_FIELDS':[],\n",
    "                            'METHOD':1,\n",
    "                            'DISCARD_NONMATCHING':True,\n",
    "                            'PREFIX':'',\n",
    "                            'OUTPUT':'TEMPORARY_OUTPUT'})\n",
    "\n",
    "jako5_raj = jako5_raj['OUTPUT']\n",
    "print (jako5_raj.featureCount())\n",
    "\n",
    "jako5_raj = processing.run(\"native:buffer\",\n",
    "                           {'INPUT':jako5_raj,\n",
    "                            'DISTANCE':500,\n",
    "                            'SEGMENTS':5,\n",
    "                            'END_CAP_STYLE':0,\n",
    "                            'JOIN_STYLE':0,\n",
    "                            'MITER_LIMIT':2,\n",
    "                            'DISSOLVE':True,\n",
    "                            'OUTPUT':'TEMPORARY_OUTPUT'})\n",
    "\n",
    "jako5_raj = jako5_raj['OUTPUT']\n",
    "print (jako5_raj.featureCount())\n",
    "#jako5_raj.updateExtents()"
   ]
  },
  {
   "cell_type": "code",
   "execution_count": 9,
   "id": "d600fb10",
   "metadata": {},
   "outputs": [
    {
     "name": "stderr",
     "output_type": "stream",
     "text": [
      "C:\\Users\\mkesala\\AppData\\Local\\Temp\\ipykernel_22492\\2658332860.py:3: ResourceWarning: unclosed file <_io.BufferedRandom name=4>\n",
      "  tempd = tempd.name+str(taso)+'.tif'\n",
      "ResourceWarning: Enable tracemalloc to get the object allocation traceback\n",
      "C:\\Users\\mkesala\\AppData\\Local\\Temp\\ipykernel_22492\\2658332860.py:27: ResourceWarning: unclosed file <_io.BufferedWriter name='C:\\\\Users\\\\mkesala\\\\AppData\\\\Local\\\\Temp\\\\tmpd_zipi2rDEM.tif'>\n",
      "  open(tempd,'wb').write(respo.content)\n",
      "ResourceWarning: Enable tracemalloc to get the object allocation traceback\n",
      "C:\\Users\\mkesala\\AppData\\Local\\Temp\\ipykernel_22492\\2658332860.py:27: ResourceWarning: unclosed file <_io.BufferedWriter name='C:\\\\Users\\\\mkesala\\\\AppData\\\\Local\\\\Temp\\\\tmpd9cooazxD8_suomi.tif'>\n",
      "  open(tempd,'wb').write(respo.content)\n",
      "ResourceWarning: Enable tracemalloc to get the object allocation traceback\n"
     ]
    }
   ],
   "source": [
    "DEM = getWater(jako5_raj,\"DEM\")\n",
    "D8= getWater(jako5_raj,\"D8_suomi\")"
   ]
  },
  {
   "cell_type": "code",
   "execution_count": 15,
   "id": "7d80f550",
   "metadata": {},
   "outputs": [
    {
     "name": "stdout",
     "output_type": "stream",
     "text": [
      "C:/Users/mkesala/AppData/Local/Temp/processing_qKJPFk/b5b6118aedf347abac6a44cbdfde9b22/OUTPUT.shp\n",
      "   fid        Nimi Havainnot  Kuva                        geometry\n",
      "0    1  purkupiste      None  None  POINT (446941.000 7196333.000)\n"
     ]
    }
   ],
   "source": [
    "snap = processing.run(\"saga:snappointstoraster\",\n",
    "                      {'INPUT':QgsVectorLayer(purku+\"|layername=\"+layer,\"point\",\"ogr\"),\n",
    "                       'GRID':DEM[0],\n",
    "                       'OUTPUT':'TEMPORARY_OUTPUT',\n",
    "                       'MOVES':'TEMPORARY_OUTPUT',\n",
    "                       'DISTANCE':snapdist,\n",
    "                       'SHAPE':0,\n",
    "                       'EXTREME':0})\n",
    "#snap = QgsVectorLayer(snap[\"OUTPUT\"],\"snap\",\"ogr\")\n",
    "print (snap[\"OUTPUT\"])\n",
    "snap_df = gpd.read_file(snap[\"OUTPUT\"])\n",
    "print (snap_df)"
   ]
  },
  {
   "cell_type": "code",
   "execution_count": 12,
   "id": "72081dd8",
   "metadata": {},
   "outputs": [
    {
     "name": "stderr",
     "output_type": "stream",
     "text": [
      "C:\\Users\\mkesala\\AppData\\Local\\Temp\\ipykernel_22492\\1045503275.py:2: ResourceWarning: unclosed file <_io.BufferedRandom name=4>\n",
      "  tempd = tempd.name+'.tif'\n",
      "ResourceWarning: Enable tracemalloc to get the object allocation traceback\n"
     ]
    },
    {
     "name": "stdout",
     "output_type": "stream",
     "text": [
      "C:\\Users\\mkesala\\AppData\\Local\\Temp\\tmp7re3yaet.tif\n"
     ]
    }
   ],
   "source": [
    "tempd = tempfile.TemporaryFile()\n",
    "tempd = tempd.name+'.tif'\n",
    "    \n",
    "d8_raj = processing.run(\"grass7:r.reclass\",\n",
    "                        {'input':D8[0],\n",
    "                         'rules':'',\n",
    "                         'txtrules':'1=8\\n2=7\\n4=6\\n8=5\\n16=4\\n32=3\\n64=2\\n128=1\\n',\n",
    "                         'output':tempd,\n",
    "                         'GRASS_REGION_PARAMETER':'',\n",
    "                         'GRASS_REGION_CELLSIZE_PARAMETER':0,\n",
    "                         'GRASS_RASTER_FORMAT_OPT':'',\n",
    "                         'GRASS_RASTER_FORMAT_META':''})\n",
    "\n",
    "print (d8_raj[\"output\"])"
   ]
  },
  {
   "cell_type": "code",
   "execution_count": 18,
   "id": "9d5ec3a4",
   "metadata": {},
   "outputs": [
    {
     "name": "stdout",
     "output_type": "stream",
     "text": [
      "<QgsGeometry: Point (446941 7196333)>\n",
      "446941.0\n"
     ]
    }
   ],
   "source": [
    "#snap = QgsVectorLayer(snap[\"OUTPUT\"],\"snap\",\"ogr\")\n",
    "\n",
    "snapfeat = next(snap.getFeatures())\n",
    "print (snapfeat.geometry())\n",
    "print (snapfeat.geometry().asPoint().x())"
   ]
  },
  {
   "cell_type": "code",
   "execution_count": 20,
   "id": "5677124b",
   "metadata": {},
   "outputs": [
    {
     "name": "stdout",
     "output_type": "stream",
     "text": [
      "446941.0,7196333.0 [EPSG:3067]\n"
     ]
    }
   ],
   "source": [
    "srid=str(snap.crs().authid())\n",
    "geom = str(snapfeat.geometry().asPoint().x())+\",\"+str(snapfeat.geometry().asPoint().y())+\" [\"+srid+\"]\"\n",
    "print (geom)"
   ]
  },
  {
   "cell_type": "code",
   "execution_count": 21,
   "id": "0a36ee6e",
   "metadata": {},
   "outputs": [],
   "source": [
    "basin = processing.run(\"grass7:r.water.outlet\",\n",
    "                       {'input':'C:/Users/mkesala/AppData/Local/Temp/tmp7re3yaet.tif',\n",
    "                        'coordinates':geom,\n",
    "                        'output':'TEMPORARY_OUTPUT',\n",
    "                        'GRASS_REGION_PARAMETER':None,\n",
    "                        'GRASS_REGION_CELLSIZE_PARAMETER':0,\n",
    "                        'GRASS_RASTER_FORMAT_OPT':'',\n",
    "                        'GRASS_RASTER_FORMAT_META':''})"
   ]
  },
  {
   "cell_type": "code",
   "execution_count": 22,
   "id": "ae795470",
   "metadata": {},
   "outputs": [],
   "source": [
    "def raster2vector(in_rast,data):\n",
    "    \"\"\"transfrom input buffer zone raster to vector\"\"\"\n",
    "    vectn = processing.run(\"gdal:polygonize\", \n",
    "        {'INPUT':in_rast,\n",
    "        'BAND':1,\n",
    "        'FIELD':'DN',\n",
    "        'EIGHT_CONNECTEDNESS':False,\n",
    "        'EXTRA':'',\n",
    "        'OUTPUT':\"TEMPORARY_OUTPUT\"})\n",
    "    \n",
    "    vect = QgsVectorLayer(vectn['OUTPUT'],\"vyohyke\",\"ogr\")\n",
    "    #arealist = [feat.geometry().area() for feat in vect.getFeatures() if feat['DN']==1]\n",
    "    #namelist = list(data.columns)\n",
    "    #for i in namelist:\n",
    "     #   vect.dataProvider().addAttributes([QgsField(i,QVariant.Double)])\n",
    "      #  vect.updateFields()\n",
    "    \n",
    "    with edit(vect):\n",
    "        for feat in vect.getFeatures():\n",
    "            #raster value 0 means out\n",
    "            if feat['DN'] == 0:\n",
    "                vect.deleteFeature(feat.id())\n",
    "            \n",
    "            #delete small parts\n",
    "            #if max(arealist) - feat.geometry().area() > max(arealist) /1.4:\n",
    "                #vect.deleteFeature(feat.id())\n",
    "\n",
    "            for i in namelist:\n",
    "                datac = data[[i]]\n",
    "                print (datac.iloc[0,0])\n",
    "                feat[i] = float(datac.iloc[0,0])\n",
    "            \n",
    "            geom = feat.geometry()\n",
    "            buffer = geom.buffer(10, 5)\n",
    "            buffer = buffer.buffer(-10,5)\n",
    "            feat.setGeometry(buffer)\n",
    "\n",
    "            vect.updateFeature(feat)\n",
    "    \n",
    "    return vect"
   ]
  },
  {
   "cell_type": "code",
   "execution_count": 28,
   "id": "6728f313",
   "metadata": {},
   "outputs": [
    {
     "name": "stdout",
     "output_type": "stream",
     "text": [
      "    DN                                           geometry\n",
      "0    1  POLYGON ((446962.108 7196354.108, 446962.000 7...\n",
      "1    1  POLYGON ((446960.108 7196352.108, 446960.000 7...\n",
      "2    1  POLYGON ((446958.108 7196350.108, 446958.000 7...\n",
      "3    1  POLYGON ((446956.108 7196348.108, 446956.000 7...\n",
      "4    1  POLYGON ((446954.108 7196346.108, 446954.000 7...\n",
      "5    1  POLYGON ((446952.108 7196344.108, 446952.000 7...\n",
      "6    1  POLYGON ((446950.108 7196342.108, 446950.000 7...\n",
      "7    1  POLYGON ((446948.108 7196340.108, 446948.000 7...\n",
      "8    1  POLYGON ((446946.108 7196338.108, 446946.000 7...\n",
      "9    1  POLYGON ((446944.108 7196336.108, 446944.000 7...\n",
      "10   1  POLYGON ((446942.108 7196334.108, 446942.000 7...\n",
      "11   1  POLYGON ((446940.108 7196332.108, 446940.000 7...\n"
     ]
    }
   ],
   "source": [
    "#vect = raster2vector(basin[\"output\"],{'pinta_ala':30})\n",
    "#print (vect.source())\n",
    "vect_df = gpd.read_file(vect.source())\n",
    "print (vect_df)"
   ]
  }
 ],
 "metadata": {
  "kernelspec": {
   "display_name": "Python 3 (ipykernel)",
   "language": "python",
   "name": "python3"
  },
  "language_info": {
   "codemirror_mode": {
    "name": "ipython",
    "version": 3
   },
   "file_extension": ".py",
   "mimetype": "text/x-python",
   "name": "python",
   "nbconvert_exporter": "python",
   "pygments_lexer": "ipython3",
   "version": "3.9.5"
  }
 },
 "nbformat": 4,
 "nbformat_minor": 5
}
