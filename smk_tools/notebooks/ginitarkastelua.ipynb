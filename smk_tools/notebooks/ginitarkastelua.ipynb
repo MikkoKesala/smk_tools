{
 "cells": [
  {
   "cell_type": "code",
   "execution_count": 1,
   "id": "cbed50b5",
   "metadata": {},
   "outputs": [],
   "source": [
    "import numpy as np\n",
    "import math"
   ]
  },
  {
   "cell_type": "code",
   "execution_count": 2,
   "id": "2138315a",
   "metadata": {},
   "outputs": [],
   "source": [
    "def getLcv(values):\n",
    "            n = len(values)\n",
    "            sample = np.array(values)\n",
    "            sample = np.sort(sample.reshape(n))[::-1]\n",
    "            b0 = np.mean(sample)\n",
    "            b1 = np.array([(n - j - 1) * sample[j] / n / (n - 1)\n",
    "                   for j in range(n)]).sum()\n",
    "            b2 = np.array([(n - j - 1) * (n - j - 2) * sample[j] / n / (n - 1) / (n - 2)\n",
    "                   for j in range(n - 1)]).sum()\n",
    "            lmom1 = b0\n",
    "            lmom2 = 2 * b1 - b0\n",
    "            lmom3 = 6 * (b2 - b1) + b0\n",
    "            lcv = lmom2 / lmom1\n",
    "            return lcv\n",
    "            \n",
    "def getLskew(values):\n",
    "        n = len(values)\n",
    "        sample = np.array(values)\n",
    "        sample = np.sort(sample.reshape(n))[::-1]\n",
    "        b0 = np.mean(sample)\n",
    "        b1 = np.array([(n - j - 1) * sample[j] / n / (n - 1)\n",
    "               for j in range(n)]).sum()\n",
    "        b2 = np.array([(n - j - 1) * (n - j - 2) * sample[j] / n / (n - 1) / (n - 2)\n",
    "               for j in range(n - 1)]).sum()\n",
    "        lmom1 = b0\n",
    "        lmom2 = 2 * b1 - b0\n",
    "        lmom3 = 6 * (b2 - b1) + b0\n",
    "        lskew = lmom3 / lmom2\n",
    "        return lskew"
   ]
  },
  {
   "cell_type": "code",
   "execution_count": 11,
   "id": "2884e1e0",
   "metadata": {},
   "outputs": [],
   "source": [
    "values = [10,10,10,10,10,10,10,10,10,10,10,10]"
   ]
  },
  {
   "cell_type": "code",
   "execution_count": 12,
   "id": "a30ede16",
   "metadata": {},
   "outputs": [
    {
     "name": "stdout",
     "output_type": "stream",
     "text": [
      "1.7763568394002506e-16\n",
      "-4.0\n"
     ]
    }
   ],
   "source": [
    "print (getLcv(values))\n",
    "print (getLskew(values))"
   ]
  }
 ],
 "metadata": {
  "kernelspec": {
   "display_name": "Python 3 (ipykernel)",
   "language": "python",
   "name": "python3"
  },
  "language_info": {
   "codemirror_mode": {
    "name": "ipython",
    "version": 3
   },
   "file_extension": ".py",
   "mimetype": "text/x-python",
   "name": "python",
   "nbconvert_exporter": "python",
   "pygments_lexer": "ipython3",
   "version": "3.9.5"
  }
 },
 "nbformat": 4,
 "nbformat_minor": 5
}
