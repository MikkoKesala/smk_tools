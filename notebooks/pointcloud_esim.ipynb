{
 "cells": [
  {
   "cell_type": "code",
   "execution_count": 14,
   "id": "4533906b",
   "metadata": {},
   "outputs": [],
   "source": [
    "import pandas as pd\n",
    "import numpy as np\n",
    "from math import sqrt"
   ]
  },
  {
   "cell_type": "code",
   "execution_count": 2,
   "id": "bd36c2da",
   "metadata": {},
   "outputs": [],
   "source": [
    "def getMedian(values):\n",
    "    values.sort()\n",
    "    n = len(values)\n",
    "    m = n//2\n",
    "    return values[m] if n%2 else (values[m-1]+values[m])*0.5\n",
    "def getStdDevSample(values):\n",
    "    a = sum(values)/len(values)\n",
    "    n = len(values)-1\n",
    "    return math.sqrt(sum([(v-a)**2 for v in values])/n) if 0 < n else 0\n",
    "\n",
    "def getStdDevPopulation(values):\n",
    "    a = sum(values)/len(values)\n",
    "    return math.sqrt(sum([(v-a)**2 for v in values])/len(values))\n",
    "\n",
    "def getLcv(values):\n",
    "    n = len(values)\n",
    "    sample = np.array(values)\n",
    "    sample = np.sort(sample.reshape(n))[::-1]\n",
    "    b0 = np.mean(sample)\n",
    "    b1 = np.array([(n - j - 1) * sample[j] / n / (n - 1)\n",
    "           for j in range(n)]).sum()\n",
    "    b2 = np.array([(n - j - 1) * (n - j - 2) * sample[j] / n / (n - 1) / (n - 2)\n",
    "           for j in range(n - 1)]).sum()\n",
    "    lmom1 = b0\n",
    "    lmom2 = 2 * b1 - b0\n",
    "    lmom3 = 6 * (b2 - b1) + b0\n",
    "    lcv = lmom2 / lmom1\n",
    "    return lcv\n",
    "\n",
    "def getLskew(values):\n",
    "    n = len(values)\n",
    "    sample = np.array(values)\n",
    "    sample = np.sort(sample.reshape(n))[::-1]\n",
    "    b0 = np.mean(sample)\n",
    "    b1 = np.array([(n - j - 1) * sample[j] / n / (n - 1)\n",
    "           for j in range(n)]).sum()\n",
    "    b2 = np.array([(n - j - 1) * (n - j - 2) * sample[j] / n / (n - 1) / (n - 2)\n",
    "           for j in range(n - 1)]).sum()\n",
    "    lmom1 = b0\n",
    "    lmom2 = 2 * b1 - b0\n",
    "    lmom3 = 6 * (b2 - b1) + b0\n",
    "    lskew = lmom3 / lmom2\n",
    "    return lskew"
   ]
  },
  {
   "cell_type": "code",
   "execution_count": null,
   "id": "4fd51754",
   "metadata": {},
   "outputs": [],
   "source": [
    "print (r)"
   ]
  },
  {
   "cell_type": "code",
   "execution_count": 3,
   "id": "accb6611",
   "metadata": {},
   "outputs": [],
   "source": [
    "pc = {(1,1):[2,2,2,2],\n",
    "      (2,2):[3,3,3],\n",
    "      (3,3):[4,4,4,4,4],\n",
    "      (4,4):[5,5,5]}\n",
    "#pc = {('x':1,'y':1,[2,2,2,2]}\n",
    "\n",
    "stats = ('lcv','lskew')\n",
    "\n",
    "func = {'minimum': min,\n",
    "        'maximum': max,\n",
    "        'median': getMedian,\n",
    "        'average': lambda values: sum(values)/len(values),\n",
    "        'standard deviation (sample)': getStdDevSample,\n",
    "        'standard deviation (population)': getStdDevPopulation,\n",
    "        'range': lambda values: max(values)-min(values),\n",
    "        'number of points': len,\n",
    "        'lcv':getLcv,\n",
    "        'lskew':getLskew}"
   ]
  },
  {
   "cell_type": "code",
   "execution_count": 7,
   "id": "1fa2ef62",
   "metadata": {},
   "outputs": [
    {
     "name": "stdout",
     "output_type": "stream",
     "text": [
      "[(1, 1, [2, 2, 2, 2]), (2, 2, [3, 3, 3]), (3, 3, [4, 4, 4, 4, 4]), (4, 4, [5, 5, 5])]\n"
     ]
    }
   ],
   "source": [
    "coord = [(x,y,values) for (x,y), values in pc.items()]\n",
    "print (coord)"
   ]
  },
  {
   "cell_type": "code",
   "execution_count": 13,
   "id": "c2d13e3c",
   "metadata": {},
   "outputs": [
    {
     "name": "stdout",
     "output_type": "stream",
     "text": [
      "[2, 2, 2, 2]\n"
     ]
    }
   ],
   "source": [
    "print (pc[(1,1)])"
   ]
  },
  {
   "cell_type": "code",
   "execution_count": 26,
   "id": "378331f7",
   "metadata": {},
   "outputs": [
    {
     "name": "stdout",
     "output_type": "stream",
     "text": [
      "1\n",
      "2\n"
     ]
    }
   ],
   "source": [
    "for i in range(5,3):\n",
    "    print (i)"
   ]
  },
  {
   "cell_type": "code",
   "execution_count": 15,
   "id": "0f627ec6",
   "metadata": {},
   "outputs": [],
   "source": [
    "def distance(coord1,coord2):\n",
    "    d = sqrt(pow(coord1[0]-coord2[0],2) + pow(coord1[1]-coord2[1],2))\n",
    "    return d\n"
   ]
  },
  {
   "cell_type": "code",
   "execution_count": 4,
   "id": "f3539c2d",
   "metadata": {},
   "outputs": [],
   "source": [
    "import random"
   ]
  },
  {
   "cell_type": "code",
   "execution_count": 8,
   "id": "e96899fb",
   "metadata": {},
   "outputs": [
    {
     "name": "stdout",
     "output_type": "stream",
     "text": [
      "[24, 1, 16, 22, 22, 9, 11, 9, 16]\n"
     ]
    }
   ],
   "source": [
    "t = [random.randint(1,30) for v in range(1,10)]\n",
    "print (t)"
   ]
  },
  {
   "cell_type": "code",
   "execution_count": 13,
   "id": "31786135",
   "metadata": {},
   "outputs": [],
   "source": [
    "cells ={}\n",
    "for i in range(100,1100,5):\n",
    "    for j in range(300,1300,5):\n",
    "        cells.setdefault((i,j),[]).append([random.randint(1,30) for v in range(1,10)])\n",
    "\n",
    "#print (cells)"
   ]
  },
  {
   "cell_type": "code",
   "execution_count": 72,
   "id": "982bce29",
   "metadata": {},
   "outputs": [
    {
     "ename": "KeyError",
     "evalue": "(90, 90)",
     "output_type": "error",
     "traceback": [
      "\u001b[1;31m---------------------------------------------------------------------------\u001b[0m",
      "\u001b[1;31mKeyError\u001b[0m                                  Traceback (most recent call last)",
      "Cell \u001b[1;32mIn[72], line 1\u001b[0m\n\u001b[1;32m----> 1\u001b[0m \u001b[38;5;28;01mif\u001b[39;00m \u001b[43mcells\u001b[49m\u001b[43m[\u001b[49m\u001b[43m(\u001b[49m\u001b[38;5;241;43m90\u001b[39;49m\u001b[43m,\u001b[49m\u001b[38;5;241;43m90\u001b[39;49m\u001b[43m)\u001b[49m\u001b[43m]\u001b[49m \u001b[38;5;129;01mis\u001b[39;00m \u001b[38;5;28;01mTrue\u001b[39;00m:\n\u001b[0;32m      2\u001b[0m     \u001b[38;5;28mprint\u001b[39m (\u001b[38;5;124m\"\u001b[39m\u001b[38;5;124mnäinpä\u001b[39m\u001b[38;5;124m\"\u001b[39m)\n\u001b[0;32m      3\u001b[0m \u001b[38;5;66;03m#print (distance((1,3),(5,3)))\u001b[39;00m\n",
      "\u001b[1;31mKeyError\u001b[0m: (90, 90)"
     ]
    }
   ],
   "source": [
    "if cells[(90,90)] is True:\n",
    "    print (\"näinpä\")\n",
    "#print (distance((1,3),(5,3)))"
   ]
  },
  {
   "cell_type": "code",
   "execution_count": 80,
   "id": "756d9f3a",
   "metadata": {},
   "outputs": [
    {
     "name": "stdout",
     "output_type": "stream",
     "text": [
      "(100, 300)\n"
     ]
    }
   ],
   "source": [
    "keys = list(cells.keys())[0]\n",
    "#kk = list(cells.keys())\n",
    "print (keys)\n",
    "x = [[keys[0]-5*i,keys[0]+5*i] for i in range(0,int(30/5+1),1)]\n",
    "x = np.unique(np.concatenate(np.array(x)))\n",
    "y = [[keys[1]-5*i,keys[1]+5*i] for i in range(0,int(30/5+1),1)]\n",
    "y = np.unique(np.concatenate(np.array(y)))\n",
    "#print (x[0])\n",
    "#ref = []\n",
    "#for i in x:\n",
    " #   for j in y:\n",
    "  #      ref.append((i,j))\n",
    "#print (ref)\n",
    "#ref = np.array([x,y])\n",
    "#print (ref)\n",
    "#print (ref+5)\n",
    "#print (ref[0][0])"
   ]
  },
  {
   "cell_type": "code",
   "execution_count": 81,
   "id": "a72db414",
   "metadata": {},
   "outputs": [],
   "source": [
    "o = 1\n",
    "for coord1 in cells:\n",
    "    x = x + (coord1[0] - keys[0])\n",
    "    y = y + (coord1[1] - keys[1])\n",
    "    #print (coord1,(x,y))\n",
    "    ref = []\n",
    "    for i in x:\n",
    "        for j in y:\n",
    "            ref.append((i,j))\n",
    "    \n",
    "    val = [] #[cells[k] for k in ref if distance(coord1,keys)<=20]\n",
    "    for k in ref:\n",
    "        try:\n",
    "            v = cells[k]\n",
    "            if distance(coord1,k)<=30:\n",
    "                val.append(v)\n",
    "        except:\n",
    "            continue\n",
    "    val = np.concatenate(np.concatenate(np.array(val)))\n",
    "    #print (val)\n",
    "    keys = coord1\n",
    "    #o+=1\n",
    "    #print (o)\n",
    "    #if o>3:\n",
    "    #    break\n",
    "    #k = [keys for keys in kk if distance(coord1,keys)<=20]"
   ]
  },
  {
   "cell_type": "code",
   "execution_count": 39,
   "id": "73721b1a",
   "metadata": {},
   "outputs": [
    {
     "name": "stdout",
     "output_type": "stream",
     "text": [
      "(1, 1)\n",
      "[(1, 1), (2, 2), (3, 3)]\n",
      "[2 2 2 2 3 3 3 4 4 4 4 4]\n",
      "(2, 2)\n",
      "[(1, 1), (2, 2), (3, 3), (4, 4)]\n",
      "[2 2 2 2 3 3 3 4 4 4 4 4 5 5 5]\n",
      "(3, 3)\n",
      "[(1, 1), (2, 2), (3, 3), (4, 4)]\n",
      "[2 2 2 2 3 3 3 4 4 4 4 4 5 5 5]\n",
      "(4, 4)\n",
      "[(2, 2), (3, 3), (4, 4)]\n",
      "[3 3 3 4 4 4 4 4 5 5 5]\n"
     ]
    },
    {
     "name": "stderr",
     "output_type": "stream",
     "text": [
      "C:\\Users\\mkesala\\AppData\\Local\\Temp\\ipykernel_4512\\3600067101.py:7: VisibleDeprecationWarning: Creating an ndarray from ragged nested sequences (which is a list-or-tuple of lists-or-tuples-or ndarrays with different lengths or shapes) is deprecated. If you meant to do this, you must specify 'dtype=object' when creating the ndarray.\n",
      "  val = np.concatenate(np.array(val))\n"
     ]
    }
   ],
   "source": [
    "for coord1 in pc:\n",
    "    print (coord1)\n",
    "    tt = []\n",
    "    keys = [keys for keys in pc if distance(coord1,keys)<3]\n",
    "    print (keys)\n",
    "    val = [pc[v] for v in keys]\n",
    "    val = np.concatenate(np.array(val))\n",
    "    print (val)"
   ]
  },
  {
   "cell_type": "code",
   "execution_count": 37,
   "id": "0d82dd66",
   "metadata": {},
   "outputs": [
    {
     "name": "stdout",
     "output_type": "stream",
     "text": [
      "1 1\n",
      "[(1, 1), (2, 2), (3, 3)]\n",
      "[2 2 2 2 3 3 3 4 4 4 4 4]\n",
      "2 2\n",
      "[(1, 1), (2, 2), (3, 3), (4, 4)]\n",
      "[2 2 2 2 3 3 3 4 4 4 4 4 5 5 5]\n",
      "3 3\n",
      "[(1, 1), (2, 2), (3, 3), (4, 4)]\n",
      "[2 2 2 2 3 3 3 4 4 4 4 4 5 5 5]\n",
      "4 4\n",
      "[(2, 2), (3, 3), (4, 4)]\n",
      "[3 3 3 4 4 4 4 4 5 5 5]\n"
     ]
    },
    {
     "name": "stderr",
     "output_type": "stream",
     "text": [
      "C:\\Users\\mkesala\\AppData\\Local\\Temp\\ipykernel_4512\\1588256695.py:7: VisibleDeprecationWarning: Creating an ndarray from ragged nested sequences (which is a list-or-tuple of lists-or-tuples-or ndarrays with different lengths or shapes) is deprecated. If you meant to do this, you must specify 'dtype=object' when creating the ndarray.\n",
      "  val = np.concatenate(np.array(val))\n"
     ]
    }
   ],
   "source": [
    "for (x,y), values in pc.items():\n",
    "    print (x,y)\n",
    "    tt = []\n",
    "    keys = [(i,j) for (i,j) in pc if distance((x,y),(i,j))<3]\n",
    "    print (keys)\n",
    "    val = [pc[v] for v in keys]\n",
    "    val = np.concatenate(np.array(val))\n",
    "    print (val)\n",
    "    #for (x,y) in pc:\n",
    "     #   if \n",
    "    \"\"\"\n",
    "    for i in range(3):\n",
    "        try:\n",
    "            x1 = pc[(x+i,y)]\n",
    "            x2 = pc[(x-i),y]\n",
    "            y1 = pc[x,y+i]\n",
    "            x2 = pc[x,y-1]\n",
    "            xy1 = pc[x+i,y+i]\n",
    "            xy2 = pc[x+i,y-i]\n",
    "            xy3 = pc[]\n",
    "            \n",
    "            #print (t,i)\n",
    "            tt.append(t)\n",
    "        except:\n",
    "            continue\n",
    "    \"\"\"\n",
    "    #print (np.concatenate(np.array(tt)))"
   ]
  },
  {
   "cell_type": "code",
   "execution_count": 14,
   "id": "01b12635",
   "metadata": {},
   "outputs": [
    {
     "name": "stdout",
     "output_type": "stream",
     "text": [
      "[(1, 1, [('lcv', -1.1102230246251565e-16), ('lskew', -2.0)]), (2, 2, [('lcv', 0.0), ('lskew', nan)]), (3, 3, [('lcv', -1.1102230246251565e-16), ('lskew', -2.0)]), (4, 4, [('lcv', 0.0), ('lskew', nan)])]\n"
     ]
    },
    {
     "name": "stderr",
     "output_type": "stream",
     "text": [
      "C:\\Users\\mkesala\\AppData\\Local\\Temp\\ipykernel_2512\\4086928550.py:42: RuntimeWarning: invalid value encountered in double_scalars\n",
      "  lskew = lmom3 / lmom2\n"
     ]
    }
   ],
   "source": [
    "coord = [(x,y,[(i,func[i](values)) for i in stats]) for (x,y), values in pc.items()]\n",
    "print (coord)"
   ]
  },
  {
   "cell_type": "code",
   "execution_count": 15,
   "id": "d2e5fe58",
   "metadata": {},
   "outputs": [
    {
     "name": "stdout",
     "output_type": "stream",
     "text": [
      "(1, 1)\n",
      "lcv\n",
      "-1.1102230246251565e-16\n",
      "lskew\n",
      "-2.0\n",
      "(2, 2)\n",
      "lcv\n",
      "0.0\n",
      "lskew\n",
      "nan\n",
      "(3, 3)\n",
      "lcv\n",
      "-1.1102230246251565e-16\n",
      "lskew\n",
      "-2.0\n",
      "(4, 4)\n",
      "lcv\n",
      "0.0\n",
      "lskew\n",
      "nan\n"
     ]
    }
   ],
   "source": [
    "for x,y,z in coord:\n",
    "    print ((x,y))\n",
    "    for (i,j) in z:\n",
    "        print (i)\n",
    "        print (j)"
   ]
  }
 ],
 "metadata": {
  "kernelspec": {
   "display_name": "Python 3 (ipykernel)",
   "language": "python",
   "name": "python3"
  },
  "language_info": {
   "codemirror_mode": {
    "name": "ipython",
    "version": 3
   },
   "file_extension": ".py",
   "mimetype": "text/x-python",
   "name": "python",
   "nbconvert_exporter": "python",
   "pygments_lexer": "ipython3",
   "version": "3.9.5"
  }
 },
 "nbformat": 4,
 "nbformat_minor": 5
}
